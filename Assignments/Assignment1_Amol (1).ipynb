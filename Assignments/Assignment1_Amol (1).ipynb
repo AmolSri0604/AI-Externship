{
  "cells": [
    {
      "cell_type": "code",
      "execution_count": null,
      "metadata": {
        "colab": {
          "base_uri": "https://localhost:8080/"
        },
        "id": "s2-QrlCfA637",
        "outputId": "20cdc4a0-f1a7-4aca-8bf8-2d12f669dd23"
      },
      "outputs": [
        {
          "name": "stdout",
          "output_type": "stream",
          "text": [
            "   Feature 1  Feature 2  Feature 3  Feature 4\n",
            "0   0.838882   0.461419   0.379060   0.648378\n",
            "1   0.572167   0.421486   0.830149   0.794196\n",
            "2   0.120005   0.002875   0.901600   0.854195\n",
            "3   0.348335   0.197800   0.871080   0.877587\n"
          ]
        }
      ],
      "source": [
        "# TASK-1 -> Create a pandas dataframe (DataFrame name as 'df') with numpy random values (4 features and 4 observation)\n",
        "\n",
        "import numpy as np\n",
        "import pandas as pd\n",
        "data= np.random.rand(4,4)\n",
        "df=pd.DataFrame(data,columns=['Feature 1','Feature 2','Feature 3','Feature 4'])\n",
        "print(df)"
      ]
    },
    {
      "cell_type": "code",
      "execution_count": null,
      "metadata": {
        "colab": {
          "base_uri": "https://localhost:8080/"
        },
        "id": "Apo0MqNXDxPc",
        "outputId": "65d13243-dd1a-48e4-f004-bf9386a03d4f"
      },
      "outputs": [
        {
          "name": "stdout",
          "output_type": "stream",
          "text": [
            "   Random value 1  Random value 2  Random value 3  Random value 4\n",
            "0        0.838882        0.461419        0.379060        0.648378\n",
            "1        0.572167        0.421486        0.830149        0.794196\n",
            "2        0.120005        0.002875        0.901600        0.854195\n",
            "3        0.348335        0.197800        0.871080        0.877587\n"
          ]
        }
      ],
      "source": [
        "# TASK-2 -> Rename the task - 1 'df' dataframe column names to 'Random value 1', 'Random value 2', 'Random value 3' & 'Random value 4'\n",
        "\n",
        "new_names={'Feature 1': 'Random value 1','Feature 2': 'Random value 2','Feature 3': 'Random value 3','Feature 4': 'Random value 4'}\n",
        "df=df.rename(columns=new_names)\n",
        "print(df)"
      ]
    },
    {
      "cell_type": "code",
      "execution_count": null,
      "metadata": {
        "colab": {
          "base_uri": "https://localhost:8080/"
        },
        "id": "d16_hkxUE3_g",
        "outputId": "5bd5bc34-b05a-45c9-ff14-b7cff4fceb38"
      },
      "outputs": [
        {
          "name": "stdout",
          "output_type": "stream",
          "text": [
            "       Random value 1  Random value 2  Random value 3  Random value 4\n",
            "count        4.000000        4.000000        4.000000        4.000000\n",
            "mean         0.469847        0.270895        0.745473        0.793589\n",
            "std          0.307577        0.213037        0.246023        0.102981\n",
            "min          0.120005        0.002875        0.379060        0.648378\n",
            "25%          0.291253        0.149068        0.717377        0.757741\n",
            "50%          0.460251        0.309643        0.850615        0.824195\n",
            "75%          0.638845        0.431470        0.878710        0.860043\n",
            "max          0.838882        0.461419        0.901600        0.877587\n"
          ]
        }
      ],
      "source": [
        "# TASK-3 -> Find the descriptive statistics of the 'df' dataframe.\n",
        "\n",
        "stats=df.describe()\n",
        "print(stats)"
      ]
    },
    {
      "cell_type": "code",
      "execution_count": null,
      "metadata": {
        "colab": {
          "base_uri": "https://localhost:8080/"
        },
        "id": "8Cp8zMRIFAp3",
        "outputId": "1dc70c1d-10eb-45b4-fe99-d7af379c0988"
      },
      "outputs": [
        {
          "name": "stdout",
          "output_type": "stream",
          "text": [
            "Null Values:\n",
            "Random value 1    0\n",
            "Random value 2    0\n",
            "Random value 3    0\n",
            "Random value 4    0\n",
            "dtype: int64\n",
            "\n",
            "Data types:\n",
            "Random value 1    float64\n",
            "Random value 2    float64\n",
            "Random value 3    float64\n",
            "Random value 4    float64\n",
            "dtype: object\n"
          ]
        }
      ],
      "source": [
        "# TASK-4 -> Check for the null values in 'df' and find the data type of the columns.\n",
        "\n",
        "null_values = df.isnull().sum()\n",
        "print('Null Values:')\n",
        "print(null_values)\n",
        "print()\n",
        "data_types=df.dtypes\n",
        "print('Data types:')\n",
        "print(data_types)"
      ]
    },
    {
      "cell_type": "code",
      "execution_count": null,
      "metadata": {
        "colab": {
          "base_uri": "https://localhost:8080/"
        },
        "id": "N23S3tdYGQo6",
        "outputId": "d11cf826-59c3-439a-bc09-4912fee1635c"
      },
      "outputs": [
        {
          "output_type": "stream",
          "name": "stdout",
          "text": [
            "Columns with location method:\n",
            "   Random value 2  Random value 3\n",
            "0        0.461419        0.379060\n",
            "1        0.421486        0.830149\n",
            "2        0.002875        0.901600\n",
            "3        0.197800        0.871080\n",
            "\n",
            "Columns with index location method:\n",
            "   Random value 2  Random value 3\n",
            "0        0.461419        0.379060\n",
            "1        0.421486        0.830149\n",
            "2        0.002875        0.901600\n",
            "3        0.197800        0.871080\n",
            "\n"
          ]
        }
      ],
      "source": [
        "#TASK 5 -> Display the 'Random value 2' & 'Random value 3' columns with location method and index location method\n",
        "\n",
        "columns_location=df.loc[:,['Random value 2','Random value 3']]\n",
        "print('Columns with location method:')\n",
        "print(columns_location)\n",
        "print()\n",
        "columns_index_location=df.iloc[:,[1,2]]\n",
        "print('Columns with index location method:')\n",
        "print(columns_index_location)\n",
        "print()\n"
      ]
    }
  ],
  "metadata": {
    "colab": {
      "provenance": []
    },
    "kernelspec": {
      "display_name": "Python 3",
      "name": "python3"
    },
    "language_info": {
      "name": "python"
    }
  },
  "nbformat": 4,
  "nbformat_minor": 0
}